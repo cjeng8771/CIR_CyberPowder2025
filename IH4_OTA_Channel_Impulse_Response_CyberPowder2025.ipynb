{
  "nbformat": 4,
  "nbformat_minor": 0,
  "metadata": {
    "colab": {
      "provenance": []
    },
    "kernelspec": {
      "name": "python3",
      "display_name": "Python 3"
    },
    "language_info": {
      "name": "python"
    }
  },
  "cells": [
    {
      "cell_type": "markdown",
      "source": [
        "# OTA Channel Impulse Response Measurements on POWDER\n",
        "\n",
        "> Authors (alphabetical order):\n",
        "> - Cassie Jeng\n",
        "> - Neal Patwari\n",
        "> - Aarti Singh\n",
        "> - Jie Wang\n",
        "> - Meles Gebreyesus Weldegebriel\n",
        "\n",
        "January 2025, Version 0.1\n",
        "\n",
        "This python notebook provides code to generate an IQ file with PN codes that can be transmitted between nodes on POWDER using the Shout framework and shows the channel impulse response and multipath resulting from cross-correlating the filtered received signal with the original PN code packet.\n",
        "\n",
        "Read and follow the instructions throughout the notebook to produce plots of the cross-correlation and channel impulse response by sequentially running the code cells. Statements marked by 🛑 indicate that something needs to be completed to continue with the code!\n",
        "\n",
        "The code is split in three steps:\n",
        "1. Create an IQ file from PN codes\n",
        "2. Use Shout to transmit and receive between two nodes\n",
        "3. Cross-correlate the filtered received signal with the original PN code packet to observe the channel impulse response and multipath\n",
        "\n",
        "🛑 Navigate to `File` > `Save a Copy in Drive` to make a copy of this read-only notebook in order to make edits.\n",
        "\n",
        "🛑 To save time, instantiate a POWDER experiment now to use later so that it can boot while you create your IQ file.\n",
        "1. Reference the table on the [IH4: OTA Channel Impulse Response Measurement Canvas assignment](https://utah.instructure.com/courses/1045795/pages/ih4-ota-channel-impulse-response-measurement) for what nodes and frequency range to use based on your group number.\n",
        "2. Log in to POWDER and start a new experiment using your resources, the `shout-long-measurement` profile, d430 compute and orchestrator node types, and None dataset. You can use the below saved parameters as a starting point but make sure to modify the resources before instantiating the experiment to use the ones allocated for your group.\n",
        "  * [Groups 1-3 (Rooftop nodes)](https://www.powderwireless.net/p/PowderSandbox/shout-long-measurement&rerun_paramset=f4e18a85-df4c-11ef-af1a-e4434b2381fc)\n",
        "  * [Groups 4-6 (Dense Deployment nodes)](https://www.powderwireless.net/p/PowderSandbox/shout-long-measurement&rerun_paramset=d850db69-df4d-11ef-af1a-e4434b2381fc)\n",
        "\n",
        "🛑 The first cell imports necessary libraries for the code. Click the play button in the upper left corner to run the code."
      ],
      "metadata": {
        "id": "FRaU0-3vw-7p"
      }
    },
    {
      "cell_type": "code",
      "execution_count": null,
      "metadata": {
        "id": "ka1QwMWHvBXs"
      },
      "outputs": [],
      "source": [
        "# Standard packages\n",
        "import argparse\n",
        "import sys\n",
        "import os\n",
        "import subprocess\n",
        "import json\n",
        "import datetime\n",
        "\n",
        "# IQ Generation packages\n",
        "import math\n",
        "import numpy as np\n",
        "import matplotlib.pyplot as plt\n",
        "import matplotlib\n",
        "from scipy.signal import lfilter\n",
        "\n",
        "# PN Generation packages\n",
        "!pip install pylfsr\n",
        "import pylfsr\n",
        "from pylfsr import LFSR\n",
        "\n",
        "# Other packages\n",
        "import itertools\n",
        "import scipy.io as sio\n",
        "from scipy import signal, stats\n",
        "import h5py\n",
        "from matplotlib import rc\n",
        "rc('xtick',labelsize=14)\n",
        "rc('ytick',labelsize=14)"
      ]
    },
    {
      "cell_type": "markdown",
      "source": [
        "# 1. Create an IQ file from PN codes\n",
        "\n",
        "PN codes are characterized by a chosen number of stages `N_stages` and the associated code length `L_codelen = 2^N_stages - 1`. They are produced using a Linear Feedback Shift Register (LFSR) which uses `taps` (specific to the chosen number of stages) and an initial `N_stages`-dimensional state vector `state`.\n",
        "\n",
        "You will be customizing your own PN code to transmit with Shout for this experiment.\n",
        "\n",
        "🛑 Click play to run the code."
      ],
      "metadata": {
        "id": "027BuMvN3G7a"
      }
    },
    {
      "cell_type": "code",
      "source": [
        "# IQ Generation functions\n",
        "\n",
        "# PURPOSE: Create QPSK bits for transmit\n",
        "# INPUT: inphase and quadrature bits\n",
        "# OUTPUT: QPSK_bits to transmit\n",
        "def Information_Transmit_r(inphase, quad):\n",
        "    in_phase = np.asarray(inphase)\n",
        "    quadrature = np.asarray(quad)\n",
        "    QPSK_bits = np.vstack([in_phase, quadrature])\n",
        "    return QPSK_bits\n",
        "\n",
        "# PURPOSE: List allowed PN taps based on specified number of stages\n",
        "# INPUT: N_stages between 7 and 11\n",
        "# OUTPUT: L_codelen PN code length, ptaps allowed taps\n",
        "def choose_taps(N_stages):\n",
        "    L_codelen = (2 ** N_stages) - 1\n",
        "    if N_stages == 7:\n",
        "        ptaps = '[7,6] [7,3] [7,1]'\n",
        "    elif N_stages == 8:\n",
        "        ptaps = '[8,6,5,4] [8,6,5,3]'\n",
        "    elif N_stages == 9:\n",
        "        ptaps = '[9,5] [9,6,4,3]'\n",
        "    elif N_stages == 10:\n",
        "        ptaps = '[10,7] [10,3]'\n",
        "    elif N_stages == 11:\n",
        "        ptaps = '[11,9] [11,8,5,2]'\n",
        "    else:\n",
        "        ptaps = ''\n",
        "    return L_codelen, ptaps\n",
        "\n",
        "# PURPOSE: Convert input data to signal space values\n",
        "# INPUT: data bits, inputVec, outputVec coding\n",
        "# OUTPUT: output values from outputVec\n",
        "def lut(data, inputVec, outputVec):\n",
        "    if len(inputVec) != len(outputVec):\n",
        "        print('ERROR in function lut: Input and Output vectors must have identical length')\n",
        "        exit()\n",
        "    output = np.zeros(data.shape)\n",
        "    eps = np.finfo('float').eps\n",
        "    for i in range(len(inputVec)):\n",
        "        # Find the indices where data is equal to that input value\n",
        "        for k in range(len(data)):\n",
        "            if abs(data[k]-inputVec[i]) < eps:\n",
        "                # Set those indices in the output to be the appropriate output value.\n",
        "                output[k] = outputVec[i]\n",
        "    return output\n",
        "\n",
        "# PURPOSE: Insert 0's between samples to oversample at OS_Rate\n",
        "# INPUT: x data to oversample, OS_Rate rate to sample\n",
        "# OUTPUT: x_s oversampled data\n",
        "def oversample(x, OS_Rate):\n",
        "    length = len(x[0])\n",
        "    x_s = np.zeros((1,length*OS_Rate))\n",
        "    # Fill in one out of every OS_Rate samples with the input values\n",
        "    count = 0\n",
        "    h = 0\n",
        "    for k in range(len(x_s[0])):\n",
        "        count = count + 1\n",
        "        if count == OS_Rate:\n",
        "            x_s[0][k] = x[0][h]\n",
        "            count = 0\n",
        "            h = h + 1\n",
        "    return x_s\n",
        "\n",
        "# PURPOSE: Create a Square Root Raised Cosine pulse shape\n",
        "# INPUT: alpha, N, Lp\n",
        "# OUTPUT: pulse shape for SRRC\n",
        "def SRRC(alpha, N, Lp):\n",
        "    # Add epsilon to the n values to avoid numerical problems\n",
        "    ntemp = list(range(-N*Lp, N*Lp+1))\n",
        "    n = []\n",
        "    for each in ntemp:\n",
        "        n.append(each + math.pow(10,-9))\n",
        "    # Plug into time domain formula for the SRRC pulse shape\n",
        "    h = []\n",
        "    coeff = 1/math.sqrt(N)\n",
        "    for each in n:\n",
        "        sine_term = math.sin(math.pi * each * (1-alpha) / N)\n",
        "        cosine_term = math.cos(math.pi * each * (1+alpha) / N)\n",
        "        cosine_coeff = 4 * alpha * each / N\n",
        "        numerator = sine_term + (cosine_coeff * cosine_term)\n",
        "        denom_coeff = math.pi * each / N\n",
        "        denom_part = 1 - math.pow(cosine_coeff, 2)\n",
        "        denominator = denom_coeff * denom_part\n",
        "        pulse = coeff * numerator / denominator\n",
        "        h.append(pulse)\n",
        "    return h\n",
        "\n",
        "# PURPOSE: Open filename and write array to it as binary\n",
        "# INPUT: data to write as binary, filename to write to\n",
        "# OUTPUT: file with complex binary data\n",
        "def write_complex_binary(data, filename):\n",
        "    # Open filename and write array to it as binary, format is interleaved float IQ\n",
        "    re = np.real(data)\n",
        "    im = np.imag(data)\n",
        "    binary = np.zeros(len(data)*2, dtype=np.float32)\n",
        "    binary[::2] = re\n",
        "    binary[1::2] = im\n",
        "    binary.tofile(filename)\n",
        "\n",
        "# PURPOSE: Load samples from binary file\n",
        "# INPUT: filename to load complex binary from\n",
        "# OUTPUT: samps from file\n",
        "def get_samps_from_file(filename):\n",
        "    # File should be in GNURadio's format, i.e., interleaved I/Q samples as float32\n",
        "    samples = np.fromfile(filename, dtype= np.float32)\n",
        "    samps = (samples[::2] + 1j*samples[1::2]).astype((np.complex64)) # convert to IQIQIQ\n",
        "    return samps"
      ],
      "metadata": {
        "id": "mnt9X0MVvgVx"
      },
      "execution_count": null,
      "outputs": []
    },
    {
      "cell_type": "markdown",
      "source": [
        "🛑 To generate the PN code to transmit for this experiment\n",
        "1. Choose and fill in a value below for `N_stages`. For the purposes of this tutorial, stick with integer values from 7 to 11. Remember that the resulting PN code length will be `L_codelen = 2^N_stages - 1`.\n",
        "\n",
        "🛑 Click play to run the code.\n",
        "\n",
        "The variables `samples_per_chip`, `samp_rate`, and `alpha` can be adjusted to see different Channel Impulse Responses and the varying affects of multipath depending on the resolution. For example, doubling the `samp_rate` should cause the resulting peaks to be twice as narrow. You can also increase the `alpha` value to decrease the amplitude of the side lobes. Because of the limited bandwidth available to each group during class, this could be interesting to explore on your own. For example, with a resolution of 25 nanoseconds, you could see the multipath separate even further, but would also need 40 MHz of bandwidth."
      ],
      "metadata": {
        "id": "6A2uhNWv4XgH"
      }
    },
    {
      "cell_type": "code",
      "source": [
        "# PN code generation\n",
        "\n",
        "samples_per_chip = 4\n",
        "samp_rate = 2500000.0\n",
        "alpha = 0.25\n",
        "A = math.sqrt(9/2)\n",
        "Lp = 6\n",
        "\n",
        "N_stages =  ### TODO ###\n",
        "L_codelen, ptaps = choose_taps(N_stages)\n",
        "print('Code length L = ' + str(L_codelen))\n",
        "print('Valid taps to choose: ' + ptaps)"
      ],
      "metadata": {
        "id": "8JIIInce7mMe"
      },
      "execution_count": null,
      "outputs": []
    },
    {
      "cell_type": "markdown",
      "source": [
        "🛑 Continue customizing the PN code\n",
        "2. Choose and fill in an initial state vector `state` as a string separated by commas only for the in-phase sequence. This vector should be `N_stages`-dimensional. A typical initial state vector for a LFSR is all 0's and a 1 in the final position, or a single 1 in any position. For example, using `N_stages = 9`, you could use `0,0,0,0,0,0,0,0,1` or `0,0,0,0,0,0,0,1,0` etc.\n",
        "3. Choose and fill in `taps` as a string separated by commas only for the in-phase sequence. This should be one of the allowed options printed above based on your chosen `N_stages`. For example, using `N_stages = 9`, you could use `9,5` or `9,6,4,3`.\n",
        "4. Do step 2 and 3 for the quadrature sequence as well. Choose different `state` and `taps`.\n",
        "5. Click play to run the code.\n",
        "\n",
        "Once we have the in-phase and quadrature bit sequences, we generate the QPSK bits to transmit, modulate, oversample, convolve with the SRRC pulse shape, and get the final `QPSK_samples` PN code packet.\n",
        "\n",
        "We transmit 1024 zeros (complex values 0+i0) at the beginning so we can still get the start of the packet if the receiver starts several samples late or the receiver needs to drop a certain number of samples in order to make sure that its queue is clear from the last sampling. Then we transmit 3 copies of the PN code packet we generated so that we have the opportunity to find a clean cross-correlation match that doesn't run into noise at the beginning or end of the packet."
      ],
      "metadata": {
        "id": "2_8TLOOp7rJ7"
      }
    },
    {
      "cell_type": "code",
      "source": [
        "# PN code generation\n",
        "\n",
        "# In-Phase Sequence\n",
        "state = '' ### TODO ###\n",
        "taps = '' ### TODO ###\n",
        "\n",
        "state = state.split(',')\n",
        "state = [int(s) for s in state]\n",
        "\n",
        "taps = taps.split(',')\n",
        "taps = [int(t) for t in taps]\n",
        "\n",
        "L = LFSR(initstate=state, fpoly=taps)\n",
        "pn_iSeq = L.getFullPeriod()\n",
        "\n",
        "# Quadrature Sequence\n",
        "state = '' ### TODO ###\n",
        "taps = '' ### TODO ###\n",
        "\n",
        "state = state.split(',')\n",
        "state = [int(s) for s in state]\n",
        "\n",
        "taps = taps.split(',')\n",
        "taps = [int(t) for t in taps]\n",
        "\n",
        "L = LFSR(initstate=state, fpoly=taps)\n",
        "pn_qSeq = L.getFullPeriod()\n",
        "\n",
        "# ----- Uncomment if you want to see the PN code bit sequences\n",
        "# print('\\nPN In-Phase Sequence:\\n',pn_iSeq)\n",
        "# print('\\nPN Quadrature Sequence:\\n',pn_qSeq)\n",
        "\n",
        "Frame = Information_Transmit_r(pn_iSeq, pn_qSeq)\n",
        "\n",
        "# Modulation\n",
        "# INPUT: data\n",
        "# OUTPUT: modulated values, x\n",
        "xI_list = []\n",
        "for each in Frame[0]:\n",
        "    if each == 0:\n",
        "        xI_list.append(-1)\n",
        "    else:\n",
        "        xI_list.append(1)\n",
        "\n",
        "xQ_list = []\n",
        "for each in Frame[1]:\n",
        "    if each == 0:\n",
        "        xQ_list.append(-1) # -1j\n",
        "    else:\n",
        "        xQ_list.append(1) # 1j\n",
        "xI_list_new = [i * A for i in xI_list]\n",
        "xQ_list_new = [i * A for i in xQ_list]\n",
        "\n",
        "xI = np.array(xI_list_new)\n",
        "xQ = np.array(xQ_list_new)\n",
        "\n",
        "xI = xI.reshape((1,len(Frame[0])))\n",
        "xQ = xQ.reshape((1,len(Frame[1])))\n",
        "\n",
        "# Oversample\n",
        "# INPUT: modulated values, x\n",
        "# OUTPUT: modulated values at sampling rate, samples_per_chip\n",
        "x_s_I = oversample(xI,samples_per_chip)\n",
        "x_s_Q = oversample(xQ,samples_per_chip)\n",
        "\n",
        "pulse = SRRC(alpha,samples_per_chip,Lp)\n",
        "pulse = np.array(pulse)\n",
        "pulse = np.reshape(pulse,pulse.size)\n",
        "\n",
        "x_s_I = np.reshape(x_s_I, x_s_I.size)\n",
        "x_s_Q = np.reshape(x_s_Q, x_s_Q.size)\n",
        "s_0_I = np.convolve(x_s_I, pulse, mode='full')\n",
        "s_0_Q = np.convolve(x_s_Q, pulse, mode='full')\n",
        "\n",
        "# Create complex IQ values from the I and Q components\n",
        "# For this tutorial we are choosing to transmit just the real I components\n",
        "# QPSK_samples = s_0_I + s_0_Q*1j\n",
        "QPSK_samples = s_0_I\n",
        "\n",
        "# Transmit 3 copies of PN code packet\n",
        "numPN = 3\n",
        "P = len(pulse)-1\n",
        "P2 = int(P/2)\n",
        "oversample_PNlen = samples_per_chip*L_codelen\n",
        "QPSK_samples_add = np.zeros((oversample_PNlen*numPN)+P, dtype=type(QPSK_samples[0]))\n",
        "\n",
        "for i in range(numPN):\n",
        "    QPSK_samples_add[i*oversample_PNlen:(i*oversample_PNlen)+oversample_PNlen+P] += QPSK_samples\n",
        "\n",
        "QPSK_samples_Final = np.hstack([np.zeros(1024, dtype=type(QPSK_samples[0])),QPSK_samples_add])"
      ],
      "metadata": {
        "id": "oKWmurvrvkB9"
      },
      "execution_count": null,
      "outputs": []
    },
    {
      "cell_type": "markdown",
      "source": [
        "We then write the `QPSK_samples_Final`, 1024 zeros and 3 copies of PN code packet, to the IQ file. We can use the `get_samps_from_file` function to read these complex binary values back.\n",
        "\n",
        "🛑 Fill in a name for the IQ file to transmit as `IQ_filename`. Do not include the `.iq` extension in the name. Then click play to run the code.\n",
        "\n",
        "🛑 You should now have an IQ file that you can transmit between nodes on POWDER using Shout. Navigate to the folder icon in the far left menu of this notebook. You should see a `..` folder, `sample_data` folder, and your IQ file. Hover over the IQ file, select the three vertical dots, and Download the file."
      ],
      "metadata": {
        "id": "PQPfrxeB_eoO"
      }
    },
    {
      "cell_type": "code",
      "source": [
        "IQ_filename = '' ### TODO ###\n",
        "IQ_filename = IQ_filename + '.iq'\n",
        "write_complex_binary(QPSK_samples_Final,IQ_filename)\n",
        "\n",
        "print('IQ file generated')\n",
        "\n",
        "# ----- Uncomment if you want to see the complex binary written to the file\n",
        "# print('\\n')\n",
        "# print(get_samps_from_file(IQ_filename)[-150:-140])"
      ],
      "metadata": {
        "id": "Tbvp9ncp_a8S"
      },
      "execution_count": null,
      "outputs": []
    },
    {
      "cell_type": "markdown",
      "source": [
        "# 2. Use Shout to Transmit and Receive Between Two Nodes\n",
        "\n",
        "🛑 You are now going to run an experiment on POWDER using Shout\n",
        "1. Again, reference the table on the [IH4: OTA Channel Impulse Response Measurement Canvas assignment](https://utah.instructure.com/courses/1045795/pages/ih4-ota-channel-impulse-response-measurement) for what nodes and frequency range to use based on your group number. You will be using the experiment you instantiated earlier for the remaining steps.\n",
        "2. Open a terminal window on your host machine. Run the following command to copy your IQ file to your POWDER nodes. Make sure you have the terminal open in the same directory that you downloaded the IQ file to. Change `<IQ_FILENAME.iq>` to be your IQ file name. Change `<USERNAME>@<HOSTNAME>` to be the `username@hostname` (written after `ssh`) listed for each node in the SSH command column in List View of your experiment. Run this command 3 times: for the orchestrator and both clients so that all three have the IQ file.\n",
        "  * `scp <IQ_FILENAME.iq> <USERNAME>@<HOSTNAME>:/local/repository/shout/signal_library`\n",
        "3. Open 4 new terminal windows. Run the following two commands in two of the terminals to open two orchestrator sessions. Fill in `<USERNAME>@<HOSTNAME>` for the orchestrator node.\n",
        "  * `ssh -Y -p 22 -t <USERNAME>@<HOSTNAME> 'cd /local/repository/bin && tmux new-session -A -s orch1 &&  exec $SHELL'`\n",
        "  * `ssh -Y -p 22 -t <USERNAME>@<HOSTNAME> 'cd /local/repository/bin && tmux new-session -A -s orch2 &&  exec $SHELL'`\n",
        "4. Run the following commands on each of the remaining two terminals to connect to the two client nodes. Fill in `<USERNAME>@<HOSTNAME>` for the two client nodes, separately.\n",
        "  * `ssh -Y -p 22 -t <USERNAME>@<HOSTNAME> 'cd /local/repository/bin && tmux new-session -A -s client1 &&  exec $SHELL'`\n",
        "  * `ssh -Y -p 22 -t <USERNAME>@<HOSTNAME> 'cd /local/repository/bin && tmux new-session -A -s client2 &&  exec $SHELL'`\n",
        "5. Download the `save_iq_w_tx_file.json` file from the [IH4: OTA Channel Impulse Response Measurement Canvas assignment](https://utah.instructure.com/courses/1045795/pages/ih4-ota-channel-impulse-response-measurement). This file needs to be modified for your experiment. In the terminal window you used on your host machine to copy your IQ file to each node, open the JSON file in your text editor of choice.\n",
        "  * Change `txfreq` and `rxfreq` to be within your allocated frequency range\n",
        "  * Change `txsamps` to specify your IQ file name\n",
        "  * Change `txclients` and `rxclients` to have your designated nodes using the **ID** column in the experiment List View for the two client comp nodes.\n",
        "  * If you are using B210 radios (groups 4-6 using Dense Deployment nodes), change `txgain` and `rxgain` to be the values specified in the resources table on the [IH4 canvas page](https://utah.instructure.com/courses/1045795/pages/ih4-ota-channel-impulse-response-measurement). These radios have a different gain range than the X310 radios on the rooftop nodes.\n",
        "  * Copy the `save_iq_w_tx_file.json` file to `/local/repository/etc/cmdfiles` on the orchestrator and both clients using the same `scp` command as used to copy the IQ file to all nodes previously.\n",
        "6. In one of the orchestrator terminal sessions, run: `./1.start_orch.sh`\n",
        "7. In both client terminal sessions, run:\n",
        "  * `sudo sysctl -w net.core.wmem_max=24862979`\n",
        "  * `./2.start_client.sh`\n",
        "  * Wait for the two clients to say \"Waiting for command...\"\n",
        "  * REMINDER: If you run into the firmware mismatch issue, run these commands sequentially, power-cycle the radio from the POWDER web UI, and restart the experiment steps.\n",
        "    * `sudo uhd_images_downloader -t x3`\n",
        "    * `sudo uhd_image_loader --args=\"type=x300,addr=192.168.40.2\"`\n",
        "8. In the second orchestrator terminal session, run: `./3.run_cmd.sh`\n",
        "9. After data collection finishes and the second orchestrator returns to the command prompt, run `cd /local/data`. There should be a Shout data folder. Copy this folder name and run the following command to zip the data folder: `zip -r data.zip <SHOUT_DATA_FOLDER>` where `<SHOUT_DATA_FOLDER>` is the name of the new data folder.\n",
        "  * Run this command in a terminal window on your local machine to copy the data folder: `scp <USERNAME>@<HOSTNAME>:/local/data/data.zip .` where `<USERNAME>@<HOSTNAME>` is for the orchestrator.\n",
        "10. Navigate back to the folder icon in the left menu of this notebook. Upload `data.zip` by clicking the first icon (paper with up arrow). Run the code for the next two code cells to unzip the data you just collected and define the necessary cross-correlation functions."
      ],
      "metadata": {
        "id": "BMHeEdB2vnl0"
      }
    },
    {
      "cell_type": "code",
      "source": [
        "!unzip data.zip"
      ],
      "metadata": {
        "id": "IXQMa9hvwHNQ"
      },
      "execution_count": null,
      "outputs": []
    },
    {
      "cell_type": "markdown",
      "source": [
        "# 3. Cross-Correlation and Channel Impulse Response from Collected Data\n",
        "\n",
        "Load the data collected using Shout and cross-correlate the filtered received signal with the original `QPSK_samples` PN code packet."
      ],
      "metadata": {
        "id": "sFV8xLqzNzTN"
      }
    },
    {
      "cell_type": "code",
      "source": [
        "# Reading data functions\n",
        "\n",
        "# PURPOSE: Get data and time from timestamp\n",
        "# INPUT: timestamp\n",
        "# OUTPUT: data and time, example: 01-04-2023, 19:50:27\n",
        "def get_time_string(timestamp):\n",
        "    date_time = datetime.datetime.fromtimestamp(int(timestamp))\n",
        "    return date_time.strftime(\"%m-%d-%Y, %H:%M:%S\")\n",
        "\n",
        "# PURPOSE: Load parameters from the saved json file\n",
        "# INPUT: data folder, saved json_file\n",
        "# OUTPUT: experiment specifications from json file\n",
        "def JsonLoad(folder, json_file):\n",
        "    config_file = folder+'/'+json_file\n",
        "    config_dict = json.load(open(config_file))[0]\n",
        "    nsamps = config_dict['nsamps']\n",
        "    rxrate = config_dict['rxrate']\n",
        "    rxfreq = config_dict['rxfreq']\n",
        "    wotxrepeat = config_dict['wotxrepeat']\n",
        "    rxrepeat = config_dict['rxrepeat']\n",
        "    txnodes = config_dict['txclients']\n",
        "    rxnodes = config_dict['rxclients']\n",
        "    return rxrepeat, rxrate, txnodes, rxnodes\n",
        "\n",
        "# PURPOSE: Load data from hdf5 format measurement file\n",
        "# INPUT: meas_folder path to measurement folder\n",
        "# OUTPUT: data, noise, and txrxloc node names\n",
        "def traverse_dataset(meas_folder):\n",
        "    data = {}\n",
        "    noise = {}\n",
        "    txrxloc = {}\n",
        "\n",
        "    dataset = h5py.File(meas_folder + '/measurements.hdf5', \"r\")\n",
        "    for cmd in dataset.keys():\n",
        "        if cmd == 'saveiq':\n",
        "            cmd_time = list(dataset[cmd].keys())[0]\n",
        "            # ----- Uncomment to see time stamps\n",
        "            # print('Time Collected:', get_time_string(cmd_time))\n",
        "            # print('Command meta data:', list(dataset[cmd][cmd_time].attrs.items()))\n",
        "        elif cmd == 'saveiq_w_tx':\n",
        "            cmd_time = list(dataset[cmd].keys())[0]\n",
        "            # ----- Uncomment to see time stamps\n",
        "            # print('Time Collected:', get_time_string(cmd_time))\n",
        "            # print('Command meta data:', list(dataset[cmd][cmd_time].attrs.items()))\n",
        "            for tx in dataset[cmd][cmd_time].keys():\n",
        "                if tx == 'wo_tx':\n",
        "                    for rx_gain in dataset[cmd][cmd_time][tx].keys():\n",
        "                        for rx in dataset[cmd][cmd_time][tx][rx_gain].keys():\n",
        "                            repeat = np.shape(dataset[cmd][cmd_time][tx][rx_gain][rx]['rxsamples'])[0]\n",
        "                            samplesNotx = dataset[cmd][cmd_time][tx][rx_gain][rx]['rxsamples'][:repeat, :]\n",
        "                            namelist = rx.split('-')\n",
        "                            noise[namelist[1]] = samplesNotx\n",
        "                else:\n",
        "                    for tx_gain in dataset[cmd][cmd_time][tx].keys():\n",
        "                        for rx_gain in dataset[cmd][cmd_time][tx][tx_gain].keys():\n",
        "                            for rx in dataset[cmd][cmd_time][tx][tx_gain][rx_gain].keys():\n",
        "                                repeat = np.shape(dataset[cmd][cmd_time][tx][tx_gain][rx_gain][rx]['rxsamples'])[0]\n",
        "                                txrxloc.setdefault(tx, []).extend([rx]*repeat)\n",
        "                                rxsamples = dataset[cmd][cmd_time][tx][tx_gain][rx_gain][rx]['rxsamples'][:repeat, :]\n",
        "                                data.setdefault(tx, []).append(np.array(rxsamples))\n",
        "        else:\n",
        "            print('Unsupported command: ', cmd)\n",
        "    return data, noise, txrxloc"
      ],
      "metadata": {
        "id": "Bm4960g6wQLv"
      },
      "execution_count": null,
      "outputs": []
    },
    {
      "cell_type": "markdown",
      "source": [
        "🛑 Fill in the `folder` name as the name of the unzipped Shout data collection folder. Run the code for the next two code cells.\n",
        "\n",
        "We are reading the measurement data from the experiment into this notebook."
      ],
      "metadata": {
        "id": "yd_30tpLOFE_"
      }
    },
    {
      "cell_type": "code",
      "source": [
        "# Access JSON information\n",
        "\n",
        "folder = '' ### TODO ###\n",
        "\n",
        "jsonfile = 'save_iq_w_tx_file.json'\n",
        "rxrepeat, samp_rate, txlocs, rxlocs = JsonLoad(folder, jsonfile)\n",
        "\n",
        "# Load data from the HDF5 file, save IQ sample arrays\n",
        "rx_data, _, txrxloc = traverse_dataset(folder)\n",
        "\n",
        "rx_names = []\n",
        "for txl in txlocs:\n",
        "    rx_names.append(txl.split('-')[1])\n",
        "\n",
        "rx_names = sorted(rx_names)\n",
        "print('\\n ----- node names ----- ')\n",
        "print(rx_names)"
      ],
      "metadata": {
        "id": "dUIVB1L7vz8-"
      },
      "execution_count": null,
      "outputs": []
    },
    {
      "cell_type": "code",
      "source": [
        "# CIR functions\n",
        "\n",
        "# PURPOSE: Cross-correlate received signal with transmitted signal.\n",
        "#          Highest amplitude corresponds to the index delay where the\n",
        "#          transmitted packet is found in the received packet.\n",
        "# INPUT: rx0 received signal, packetSignal transmitted PN code packet\n",
        "# OUTPUT: lagIndex highest correlation delay index, lags, xcorr_mag, peak\n",
        "def crossCorrelationMax(rx0, packetSignal):\n",
        "    # Cross correlate with the original packet to find it in the noisy signal\n",
        "    lags = signal.correlation_lags(len(rx0), len(packetSignal), mode='same')\n",
        "    xcorr_out = signal.correlate(rx0, packetSignal, mode='same')\n",
        "    xcorr_mag = np.abs(xcorr_out)\n",
        "\n",
        "    length_of_packet = len(packetSignal)\n",
        "    maxIndex = np.argmax(xcorr_mag[:len(xcorr_mag)-length_of_packet])\n",
        "    lagIndex = lags[maxIndex]\n",
        "    peak = lags[np.argmax(xcorr_mag)]\n",
        "\n",
        "    plt.figure()\n",
        "    plt.plot(((lags/samp_rate)*1000000), xcorr_mag, label='|X-Correlation|')\n",
        "    plt.legend()\n",
        "    plt.plot(((peak/samp_rate)*1000000), xcorr_mag[peak], 'xr')\n",
        "    plt.ylabel('|X-Correlation| with TX Packet', fontsize=14)\n",
        "    plt.xlabel('Time (us)', fontsize=14)\n",
        "    plt.tight_layout()\n",
        "    plt.show()\n",
        "\n",
        "    return lagIndex, lags, xcorr_mag, peak\n",
        "\n",
        "# PURPOSE: Convert samples to microseconds\n",
        "# INPUT: value in samples\n",
        "# OUTPUT: time value in microseconds (us)\n",
        "def samples_to_us(value, samp_rate):\n",
        "    return (float)((value/samp_rate)*1000000)"
      ],
      "metadata": {
        "id": "F_Kp5dk4wdri"
      },
      "execution_count": null,
      "outputs": []
    },
    {
      "cell_type": "markdown",
      "source": [
        "1. For each node and each repetition (total number of repetitions per node specified by `rxrepeat` in the json file), we filter the received signal and then cross-correlate it with the original PN code packet `QPSK_samples` which was transmitted three times with the 1024 zeros.\n",
        "  * The `filtered_rx0_list` saves the `filtered_rx0` for each repetition so we can access them individually later without having to run through the nested for loops again.\n",
        "2. The `crossCorrelationMax` function returns the delay from the start of the received signal to where the first copy of the PN code packet was detected, representing the channel delay/lag caused by time offsets and propagation delays between nodes.\n",
        "3. We plot the cross-correlation results where the peak is at the delay index, `lagIndex`. The red x denotes where the largest peak was detected. There will be various smaller peaks surrounding the main peaks where you can observe the effects of multipath at the receiver. There might also be other large peaks where other copies of the PN code packet were detected, depending on your chosen PN code length from the beginning of the experiment. Cross-correlation is calculated in samples, but this is converted to time in seconds by dividing by the `samp_rate`.\n",
        "\n",
        "We can see in the plots that the noise and multipath peak amplitudes are less than 10% of the amplitude of the main peaks. There should also be a small region immediately on either side of all the main peaks where there are no side lobes.\n",
        "\n",
        "🛑 Run the code below."
      ],
      "metadata": {
        "id": "b_5jtjB6P4j-"
      }
    },
    {
      "cell_type": "code",
      "source": [
        "# Cross Correlation & Delays\n",
        "\n",
        "filtered_rx0_list = []\n",
        "\n",
        "for tx in txlocs:\n",
        "    for rx in txlocs:\n",
        "        if tx != rx:\n",
        "            for repNum in range(rxrepeat):\n",
        "                txloc = tx\n",
        "                rxloc = rx\n",
        "\n",
        "                rx_data[txloc] = np.vstack(rx_data[txloc])\n",
        "                rxloc_arr = np.array(txrxloc[txloc])\n",
        "                rx0 = rx_data[txloc][rxloc_arr==rxloc][repNum]\n",
        "\n",
        "                # Low Pass Filtering to out_of_band frequency components\n",
        "                stopband_attenuation = 60.0\n",
        "                transition_bandwidth = 0.05\n",
        "                cutoff_norm = 0.15\n",
        "                filterN, beta = signal.kaiserord(stopband_attenuation, transition_bandwidth)\n",
        "                taps = signal.firwin(filterN, cutoff_norm, window=('kaiser', beta))\n",
        "                filtered_rx0 = signal.lfilter(taps, 1.0, rx0)\n",
        "                filtered_rx0_list.append(filtered_rx0)\n",
        "\n",
        "                packetSignal = QPSK_samples\n",
        "                lagIndex, lags, xcorr_mag, peak = crossCorrelationMax(filtered_rx0, packetSignal)"
      ],
      "metadata": {
        "id": "5Dk5iCgxv1xp"
      },
      "execution_count": null,
      "outputs": []
    },
    {
      "cell_type": "markdown",
      "source": [
        "🛑 To take a closer look at the multipath and channel impulse response seen from the cross-correlation, choose one plot (any repetition of any transmitter/receiver) from the collection displayed above. Note it's \"index\" `plotnum` based on the order it was displayed. For example, if you choose the second plot shown above, the \"index\" is `plotnum = 1`. Fill in `plotnum` below and then click play to run the code.\n",
        "\n",
        "We rerun the cross-correlation for your chosen repetition to isolate the chosen plot and data. The max peak `lagIndex` is displayed. This should be a good choice of peak to look at further, but if you would like to choose a different clean peak in the plot, adjust the lagIndex as needed."
      ],
      "metadata": {
        "id": "Pc44T8S0SsVR"
      }
    },
    {
      "cell_type": "code",
      "source": [
        "# Look closer at Cross-Correlation Peak\n",
        "\n",
        "plotnum =  ### TODO ###\n",
        "filtered_rx0 = filtered_rx0_list[plotnum]\n",
        "\n",
        "lagIndex, lags, xcorr_mag, peak = crossCorrelationMax(filtered_rx0, QPSK_samples)\n",
        "print('RX Time Delay: ' + str(samples_to_us(lagIndex,samp_rate)) + ' us')\n",
        "\n",
        "# Change lagIndex if a different peak is desired to analyze in zoomed plot"
      ],
      "metadata": {
        "id": "6Duy_Ktkv5IO"
      },
      "execution_count": null,
      "outputs": []
    },
    {
      "cell_type": "markdown",
      "source": [
        "🛑 Choose a number of microseconds `us_around` and fill in the code below to specify how much time before and after the peak to include in the zoomed plot. A good number to start for this is around 20 microseconds, but you can mess around with different numbers to zoom in and out on the plot.\n",
        "\n",
        "🛑 Click play to run the code.\n",
        "\n",
        "  * Below we plot the same cross-correlation plot but focused on the peak/index where we found the first copy of the transmitted PN code packet in the received signal.\n",
        "  * You should be able to see the side lobes around the peak that are a result of using the SRRC pulse shape.\n",
        "  * This is the voltage plot. To see the power plot, you can plot `20*np.log10(xcorr_mag)` instead. In the power plot, you should see about 30 dB of dynamic range around the peak.\n",
        "\n",
        "🛑 Add both your original cross-correlation plot and your zoomed in plot to the class results [Google Doc](https://docs.google.com/document/d/1V2pEICyCiz0p0sV33NMLEAHHvUstUNarXrIf07RETuw/edit?usp=sharing) as specified on the in-class activity [canvas page for IH4: OTA Channel Impulse Response Measurement](https://utah.instructure.com/courses/1045795/pages/ih4-ota-channel-impulse-response-measurement)."
      ],
      "metadata": {
        "id": "NnUYoyiAUveT"
      }
    },
    {
      "cell_type": "code",
      "source": [
        "# Zoom in on Cross-Correlation Peak\n",
        "\n",
        "us_around =  ### TODO ###\n",
        "lagIndex_us = samples_to_us(lagIndex,samp_rate)\n",
        "\n",
        "plt.figure()\n",
        "plt.plot(((lags/samp_rate)*1000000), xcorr_mag, label='|X-Correlation|')\n",
        "plt.legend()\n",
        "plt.ylabel('|X-Correlation| with TX Packet', fontsize=14)\n",
        "plt.xlabel('Time (us)', fontsize=14)\n",
        "plt.xlim((lagIndex_us-us_around,lagIndex_us+us_around))\n",
        "plt.tight_layout()\n",
        "plt.grid(True)\n",
        "plt.show()"
      ],
      "metadata": {
        "id": "hG3OrjpEv8Ew"
      },
      "execution_count": null,
      "outputs": []
    }
  ]
}